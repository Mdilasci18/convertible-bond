{
 "cells": [
  {
   "cell_type": "markdown",
   "id": "e778a303",
   "metadata": {},
   "source": [
    "### Sina Finance Web Crawler\n",
    "\n",
    "This notebook is used for data collection from [Sina Finance](https://finance.sina.com.cn/)\n",
    "+ Convert price in conversion item, saved in `sina_cvprice.csv`\n",
    "+ Interest rate in bond issuance item, saved in `sina_rate.csv`\n",
    "\n",
    "Note: The stability of web crawler code depends on Internet condition. ***No need to run this notebook unless the data above is removed.***\n",
    "\n"
   ]
  },
  {
   "cell_type": "code",
   "execution_count": null,
   "id": "e8edf54d",
   "metadata": {},
   "outputs": [],
   "source": [
    "import os\n",
    "import time\n",
    "import random\n",
    "import requests\n",
    "import pandas as pd\n",
    "from tqdm import tqdm\n",
    "from lxml import etree"
   ]
  },
  {
   "cell_type": "code",
   "execution_count": null,
   "id": "a0e08f0a",
   "metadata": {},
   "outputs": [],
   "source": [
    "# load bond tickers\n",
    "data_path = '../../../../export/scratch/for_yifan/research/'\n",
    "cbond_info = pd.read_csv(os.path.join(data_path, 'cbond_info.csv'), index_col=False, low_memory=False)\n",
    "tickers = cbond_info['bond_ticker'].unique().tolist()"
   ]
  },
  {
   "cell_type": "code",
   "execution_count": null,
   "id": "a683404d",
   "metadata": {},
   "outputs": [],
   "source": [
    "# user agent pool\n",
    "user_agent_list = [\n",
    "    \"Mozilla/5.0 (Windows NT 10.0) AppleWebKit/537.36 (KHTML, like Gecko) Chrome/68.0.3440.106 Safari/537.36\",\n",
    "    \"Mozilla/5.0 (Windows NT 10.0) AppleWebKit/537.36 (KHTML, like Gecko) Chrome/67.0.3396.99 Safari/537.36\",\n",
    "    \"Mozilla/5.0 (Windows NT 10.0) Gecko/20100101 Firefox/61.0\",\n",
    "    \"Mozilla/5.0 (Windows NT 10.0) AppleWebKit/537.36 (KHTML, like Gecko) Chrome/64.0.3282.186 Safari/537.36\",\n",
    "    \"Mozilla/5.0 (Windows NT 6.1) AppleWebKit/537.36 (KHTML, like Gecko) Chrome/45.0.2454.101 Safari/537.36\",\n",
    "    \"Mozilla/5.0 (Windows NT 5.1) AppleWebKit/537.36 (KHTML, like Gecko) Chrome/49.0.2623.112 Safari/537.36\"\n",
    "    ]"
   ]
  },
  {
   "cell_type": "markdown",
   "id": "7008bc8f",
   "metadata": {},
   "source": [
    "#### Convert Price"
   ]
  },
  {
   "cell_type": "code",
   "execution_count": null,
   "id": "fed7444d",
   "metadata": {},
   "outputs": [],
   "source": [
    "def sinaCrawlerConv(ticker):\n",
    "    header = {\"User-Agent\": random.choice(user_agent_list)}\n",
    "\n",
    "    # sample url: http://money.finance.sina.com.cn/bond/conversion/sh113609.html\n",
    "    url = 'http://money.finance.sina.com.cn/bond/conversion/{}{}.html'.format(\n",
    "        ticker.split('.')[1], ticker.split('.')[0])\n",
    "\n",
    "    response = requests.get(url, headers=header, timeout=5)\n",
    "    text = response.text\n",
    "    html = etree.HTML(text)\n",
    "    title = html.xpath(\"//div[@class='blk02']/table[2]/tr[@class='bluetit']/td/text()\")\n",
    "    table = html.xpath(\"//div[@class='blk02']/table[2]/tr[@class='bluecnt']\")\n",
    "\n",
    "    value = []\n",
    "    for content in table:\n",
    "        value.append(content.xpath(\"./td/text()\"))\n",
    "\n",
    "    record = pd.DataFrame(data=value, columns=title)\n",
    "    \n",
    "    record = record.iloc[:, [2, 3, 5, 6]].copy()\n",
    "    record.columns = ['announce_date', 'conv_date', 'conv_price', 'conv_ratio']\n",
    "    record['bond_ticker'] = ticker\n",
    "    \n",
    "    return record"
   ]
  },
  {
   "cell_type": "code",
   "execution_count": null,
   "id": "82354375",
   "metadata": {},
   "outputs": [],
   "source": [
    "# collect convert price from sina finane \n",
    "cv_record = []\n",
    "\n",
    "for ticker in tqdm(tickers):\n",
    "    record = sinaCrawlerConv(ticker)\n",
    "    if len(record) == 0:\n",
    "        print(ticker)\n",
    "    cv_record.append(record)\n",
    "    time.sleep(1)\n",
    "    \n",
    "cv_data = pd.concat(cv_record).reset_index(drop=True)"
   ]
  },
  {
   "cell_type": "code",
   "execution_count": null,
   "id": "f8844280",
   "metadata": {},
   "outputs": [],
   "source": [
    "cv_data['announce_date'] = cv_data['announce_date'].map(lambda x: x.replace('-', ''))\n",
    "cv_data['conv_date'] = cv_data['conv_date'].map(lambda x: x.replace('-', ''))\n",
    "cv_data.rename(columns={'date': 'conv_date', 'cv_price':'conv_price', 'cv_ratio':'conv_ratio'}, inplace=True)\n",
    "cv_data = cv_data[['bond_ticker', 'announce_date', 'conv_date', 'conv_price', 'conv_ratio']].copy()"
   ]
  },
  {
   "cell_type": "code",
   "execution_count": null,
   "id": "2f150b12",
   "metadata": {},
   "outputs": [],
   "source": [
    "cv_data.to_csv(os.path.join(data_path, 'sina_cvprice.csv'), index=False)"
   ]
  },
  {
   "cell_type": "markdown",
   "id": "a1e430b1",
   "metadata": {},
   "source": [
    "#### interest rate"
   ]
  },
  {
   "cell_type": "code",
   "execution_count": null,
   "id": "6e60e67d",
   "metadata": {},
   "outputs": [],
   "source": [
    "def sinaCrawlerRate(ticker):\n",
    "    header = {\"User-Agent\": random.choice(user_agent_list)}\n",
    "\n",
    "    # sample url: http://money.finance.sina.com.cn/bond/rateChange/sh110030.html\n",
    "    url = 'http://money.finance.sina.com.cn/bond/rateChange/{}{}.html'.format(\n",
    "        ticker.split('.')[1], ticker.split('.')[0])\n",
    "\n",
    "    response = requests.get(url, headers=header, timeout=5)\n",
    "    text = response.text\n",
    "    html = etree.HTML(text)\n",
    "    title = html.xpath(\"//div[@class='blk02']/table//tr[@class='bluetit']/td/text()\")\n",
    "    table = html.xpath(\"//div[@class='blk02']/table//tr[@class='bluecnt']\")\n",
    "\n",
    "    value = []\n",
    "    for content in table:\n",
    "        value.append(content.xpath(\"./td/text()\"))\n",
    "\n",
    "    record = pd.DataFrame(data=value, columns=title)\n",
    "    \n",
    "    record = record.iloc[:, [1, 2, 3]].copy()\n",
    "    record.columns = ['start_date', 'end_date', 'rate']\n",
    "    record['bond_ticker'] = ticker\n",
    "    \n",
    "    return record"
   ]
  },
  {
   "cell_type": "code",
   "execution_count": null,
   "id": "841fa218",
   "metadata": {},
   "outputs": [],
   "source": [
    "# collect interest rate from sina finane \n",
    "rate_record = []\n",
    "\n",
    "for ticker in tqdm(tickers):\n",
    "    record = sinaCrawlerRate(ticker)\n",
    "    if len(record) == 0:\n",
    "        print(ticker)\n",
    "    rate_record.append(record)\n",
    "    time.sleep(1)\n",
    "    \n",
    "rate = pd.concat(rate_record).reset_index(drop=True)"
   ]
  },
  {
   "cell_type": "code",
   "execution_count": null,
   "id": "b3d59ffc",
   "metadata": {},
   "outputs": [],
   "source": [
    "rate['start_date'] = rate['start_date'].map(lambda x: x.replace('-', '')).astype('int64')\n",
    "rate['end_date'] = rate['end_date'].map(lambda x: x.replace('-', '')).astype('int64')\n",
    "rate = rate[['bond_ticker', 'start_date', 'end_date', 'rate']]\n",
    "rate.head()"
   ]
  },
  {
   "cell_type": "code",
   "execution_count": null,
   "id": "f52e4161",
   "metadata": {},
   "outputs": [],
   "source": [
    "rate.to_csv(os.path.join(data_path, 'sina_rate.csv'), index=False)"
   ]
  }
 ],
 "metadata": {
  "kernelspec": {
   "display_name": "Python 3 (ipykernel)",
   "language": "python",
   "name": "python3"
  },
  "language_info": {
   "codemirror_mode": {
    "name": "ipython",
    "version": 3
   },
   "file_extension": ".py",
   "mimetype": "text/x-python",
   "name": "python",
   "nbconvert_exporter": "python",
   "pygments_lexer": "ipython3",
   "version": "3.8.10"
  }
 },
 "nbformat": 4,
 "nbformat_minor": 5
}
